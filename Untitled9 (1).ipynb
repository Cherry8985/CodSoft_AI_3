{
 "cells": [
  {
   "cell_type": "code",
   "execution_count": 1,
   "id": "bc341904-8f6d-4a05-9681-c5e5c00e5d9c",
   "metadata": {},
   "outputs": [
    {
     "name": "stdin",
     "output_type": "stream",
     "text": [
      "\n",
      "Enter the user ID for recommendations (or type 'end' to quit):  1\n"
     ]
    },
    {
     "name": "stdout",
     "output_type": "stream",
     "text": [
      "\n",
      "Recommendations for User 1 :\n",
      "\n",
      "product_id\n",
      "1    0.666667\n",
      "3    0.500000\n",
      "5    0.333333\n"
     ]
    },
    {
     "name": "stdin",
     "output_type": "stream",
     "text": [
      "\n",
      "Enter the user ID for recommendations (or type 'end' to quit):  3\n"
     ]
    },
    {
     "name": "stdout",
     "output_type": "stream",
     "text": [
      "\n",
      "Recommendations for User 3 :\n",
      "\n",
      "product_id\n",
      "4    1.666667\n",
      "3    1.166667\n",
      "1    0.500000\n"
     ]
    },
    {
     "name": "stdin",
     "output_type": "stream",
     "text": [
      "\n",
      "Enter the user ID for recommendations (or type 'end' to quit):  5\n"
     ]
    },
    {
     "name": "stdout",
     "output_type": "stream",
     "text": [
      "\n",
      "Recommendations for User 5 :\n",
      "\n",
      "product_id\n",
      "2    1.833333\n",
      "1    1.166667\n",
      "4    0.833333\n",
      "5    0.333333\n"
     ]
    },
    {
     "name": "stdin",
     "output_type": "stream",
     "text": [
      "\n",
      "Enter the user ID for recommendations (or type 'end' to quit):  2\n"
     ]
    },
    {
     "name": "stdout",
     "output_type": "stream",
     "text": [
      "\n",
      "Recommendations for User 2 :\n",
      "\n",
      "product_id\n",
      "4    1.666667\n",
      "2    1.000000\n",
      "5    0.000000\n"
     ]
    },
    {
     "name": "stdin",
     "output_type": "stream",
     "text": [
      "\n",
      "Enter the user ID for recommendations (or type 'end' to quit):  4\n"
     ]
    },
    {
     "name": "stdout",
     "output_type": "stream",
     "text": [
      "\n",
      "Recommendations for User 4 :\n",
      "\n",
      "product_id\n",
      "2    1.833333\n",
      "4    1.666667\n",
      "3    0.666667\n",
      "5    0.333333\n"
     ]
    },
    {
     "name": "stdin",
     "output_type": "stream",
     "text": [
      "\n",
      "Enter the user ID for recommendations (or type 'end' to quit):  6\n"
     ]
    },
    {
     "name": "stdout",
     "output_type": "stream",
     "text": [
      "\n",
      "Recommendations for User 6 :\n",
      "\n",
      "product_id\n",
      "2    1.500000\n",
      "1    1.166667\n",
      "3    1.166667\n",
      "5    0.333333\n"
     ]
    },
    {
     "name": "stdin",
     "output_type": "stream",
     "text": [
      "\n",
      "Enter the user ID for recommendations (or type 'end' to quit):  7\n"
     ]
    },
    {
     "name": "stdout",
     "output_type": "stream",
     "text": [
      "\n",
      "Recommendations for User 7 :\n",
      "\n"
     ]
    },
    {
     "ename": "IndexError",
     "evalue": "index 7 is out of bounds for axis 0 with size 7",
     "output_type": "error",
     "traceback": [
      "\u001b[1;31m---------------------------------------------------------------------------\u001b[0m",
      "\u001b[1;31mIndexError\u001b[0m                                Traceback (most recent call last)",
      "Cell \u001b[1;32mIn[1], line 37\u001b[0m\n\u001b[0;32m     35\u001b[0m \u001b[38;5;28;01mtry\u001b[39;00m:\n\u001b[0;32m     36\u001b[0m     user_id \u001b[38;5;241m=\u001b[39m \u001b[38;5;28mint\u001b[39m(user_id_input)\n\u001b[1;32m---> 37\u001b[0m     \u001b[43mgenerate_recommendations_for_user\u001b[49m\u001b[43m(\u001b[49m\u001b[43muser_id\u001b[49m\u001b[43m)\u001b[49m\n\u001b[0;32m     38\u001b[0m \u001b[38;5;28;01mexcept\u001b[39;00m \u001b[38;5;167;01mValueError\u001b[39;00m:\n\u001b[0;32m     39\u001b[0m     \u001b[38;5;28mprint\u001b[39m(\u001b[38;5;124m\"\u001b[39m\u001b[38;5;124mInvalid input. Please enter a valid user ID or \u001b[39m\u001b[38;5;124m'\u001b[39m\u001b[38;5;124mend\u001b[39m\u001b[38;5;124m'\u001b[39m\u001b[38;5;124m to quit.\u001b[39m\u001b[38;5;124m\"\u001b[39m)\n",
      "Cell \u001b[1;32mIn[1], line 25\u001b[0m, in \u001b[0;36mgenerate_recommendations_for_user\u001b[1;34m(user_id)\u001b[0m\n\u001b[0;32m     23\u001b[0m \u001b[38;5;28;01mdef\u001b[39;00m \u001b[38;5;21mgenerate_recommendations_for_user\u001b[39m(user_id):\n\u001b[0;32m     24\u001b[0m     \u001b[38;5;28mprint\u001b[39m(\u001b[38;5;124mf\u001b[39m\u001b[38;5;124m\"\u001b[39m\u001b[38;5;130;01m\\n\u001b[39;00m\u001b[38;5;124mRecommendations for User \u001b[39m\u001b[38;5;132;01m{\u001b[39;00muser_id\u001b[38;5;132;01m}\u001b[39;00m\u001b[38;5;124m :\u001b[39m\u001b[38;5;130;01m\\n\u001b[39;00m\u001b[38;5;124m\"\u001b[39m)\n\u001b[1;32m---> 25\u001b[0m     collaborative_recommendations \u001b[38;5;241m=\u001b[39m \u001b[43mgenerate_collaborative_recommendations\u001b[49m\u001b[43m(\u001b[49m\u001b[43muser_id\u001b[49m\u001b[43m)\u001b[49m\n\u001b[0;32m     26\u001b[0m     \u001b[38;5;28mprint\u001b[39m(collaborative_recommendations\u001b[38;5;241m.\u001b[39mto_string())\n",
      "Cell \u001b[1;32mIn[1], line 14\u001b[0m, in \u001b[0;36mgenerate_collaborative_recommendations\u001b[1;34m(user_id, num_recommendations)\u001b[0m\n\u001b[0;32m     12\u001b[0m \u001b[38;5;28;01mdef\u001b[39;00m \u001b[38;5;21mgenerate_collaborative_recommendations\u001b[39m(user_id, num_recommendations\u001b[38;5;241m=\u001b[39m\u001b[38;5;241m5\u001b[39m):\n\u001b[0;32m     13\u001b[0m     \u001b[38;5;66;03m# Find similar users\u001b[39;00m\n\u001b[1;32m---> 14\u001b[0m     similar_users \u001b[38;5;241m=\u001b[39m \u001b[43muser_similarity\u001b[49m\u001b[43m[\u001b[49m\u001b[43muser_id\u001b[49m\u001b[43m]\u001b[49m\u001b[38;5;241m.\u001b[39margsort()[::\u001b[38;5;241m-\u001b[39m\u001b[38;5;241m1\u001b[39m][\u001b[38;5;241m1\u001b[39m:] \n\u001b[0;32m     16\u001b[0m     user_ratings \u001b[38;5;241m=\u001b[39m user_item_matrix\u001b[38;5;241m.\u001b[39mloc[user_id]\n\u001b[0;32m     17\u001b[0m     unrated_movies \u001b[38;5;241m=\u001b[39m user_ratings[user_ratings \u001b[38;5;241m==\u001b[39m \u001b[38;5;241m0\u001b[39m]\u001b[38;5;241m.\u001b[39mindex\n",
      "\u001b[1;31mIndexError\u001b[0m: index 7 is out of bounds for axis 0 with size 7"
     ]
    }
   ],
   "source": [
    "import pandas as pd\n",
    "import numpy as np\n",
    "from sklearn.metrics.pairwise import cosine_similarity\n",
    "\n",
    "ratings_df = pd.read_csv('ratings.csv')\n",
    "\n",
    "# Ratings.csv file is a random sample data of 10 users rating 5 different movies with movie IDs from 101-105. \n",
    "\n",
    "user_item_matrix = ratings_df.pivot_table(index='user_id', columns='product_id', values='rating').fillna(0)\n",
    "user_similarity = cosine_similarity(user_item_matrix)\n",
    "\n",
    "def generate_collaborative_recommendations(user_id, num_recommendations=5):\n",
    "    # Find similar users\n",
    "    similar_users = user_similarity[user_id].argsort()[::-1][1:] \n",
    "\n",
    "    user_ratings = user_item_matrix.loc[user_id]\n",
    "    unrated_movies = user_ratings[user_ratings == 0].index\n",
    "\n",
    "    avg_ratings = user_item_matrix.iloc[similar_users].mean()\n",
    "    collaborative_recommendations = avg_ratings[unrated_movies].sort_values(ascending=False).head(num_recommendations)\n",
    "    return collaborative_recommendations\n",
    "\n",
    "def generate_recommendations_for_user(user_id):\n",
    "    print(f\"\\nRecommendations for User {user_id} :\\n\")\n",
    "    collaborative_recommendations = generate_collaborative_recommendations(user_id)\n",
    "    print(collaborative_recommendations.to_string())\n",
    "\n",
    "while True:\n",
    "    user_id_input = input(\"\\nEnter the user ID for recommendations (or type 'end' to quit): \")\n",
    "    \n",
    "    if user_id_input.lower() == 'end':\n",
    "        print(\"\\nEnding recommendation requests.\")\n",
    "        break\n",
    "    \n",
    "    try:\n",
    "        user_id = int(user_id_input)\n",
    "        generate_recommendations_for_user(user_id)\n",
    "    except ValueError:\n",
    "        print(\"Invalid input. Please enter a valid user ID or 'end' to quit.\")\n"
   ]
  },
  {
   "cell_type": "code",
   "execution_count": null,
   "id": "e457a7b0-8699-4451-855c-51430b843e63",
   "metadata": {},
   "outputs": [],
   "source": []
  }
 ],
 "metadata": {
  "kernelspec": {
   "display_name": "Python 3 (ipykernel)",
   "language": "python",
   "name": "python3"
  },
  "language_info": {
   "codemirror_mode": {
    "name": "ipython",
    "version": 3
   },
   "file_extension": ".py",
   "mimetype": "text/x-python",
   "name": "python",
   "nbconvert_exporter": "python",
   "pygments_lexer": "ipython3",
   "version": "3.12.2"
  }
 },
 "nbformat": 4,
 "nbformat_minor": 5
}
